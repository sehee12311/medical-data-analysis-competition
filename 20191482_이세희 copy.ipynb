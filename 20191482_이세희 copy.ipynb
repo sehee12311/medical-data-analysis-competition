{
 "cells": [
  {
   "cell_type": "code",
   "execution_count": 1,
   "metadata": {},
   "outputs": [
    {
     "data": {
      "text/plain": [
       "(110527, 14)"
      ]
     },
     "execution_count": 1,
     "metadata": {},
     "output_type": "execute_result"
    }
   ],
   "source": [
    "import pandas as pd\n",
    "import numpy as np\n",
    "import matplotlib.pyplot as plt\n",
    "\n",
    "df = pd.read_csv('KaggleV2_May_2016.csv')\n",
    "df.shape"
   ]
  },
  {
   "cell_type": "code",
   "execution_count": 74,
   "metadata": {},
   "outputs": [
    {
     "name": "stdout",
     "output_type": "stream",
     "text": [
      "<class 'pandas.core.frame.DataFrame'>\n",
      "RangeIndex: 110527 entries, 0 to 110526\n",
      "Data columns (total 14 columns):\n",
      " #   Column          Non-Null Count   Dtype  \n",
      "---  ------          --------------   -----  \n",
      " 0   PatientId       110527 non-null  float64\n",
      " 1   AppointmentID   110527 non-null  int64  \n",
      " 2   Gender          110527 non-null  object \n",
      " 3   ScheduledDay    110527 non-null  object \n",
      " 4   AppointmentDay  110527 non-null  object \n",
      " 5   Age             110527 non-null  int64  \n",
      " 6   Neighbourhood   110527 non-null  object \n",
      " 7   Scholarship     110527 non-null  int64  \n",
      " 8   Hipertension    110527 non-null  int64  \n",
      " 9   Diabetes        110527 non-null  int64  \n",
      " 10  Alcoholism      110527 non-null  int64  \n",
      " 11  Handcap         110527 non-null  int64  \n",
      " 12  SMS_received    110527 non-null  int64  \n",
      " 13  No-show         110527 non-null  object \n",
      "dtypes: float64(1), int64(8), object(5)\n",
      "memory usage: 11.8+ MB\n"
     ]
    }
   ],
   "source": [
    "df.info()"
   ]
  },
  {
   "cell_type": "code",
   "execution_count": 75,
   "metadata": {},
   "outputs": [
    {
     "data": {
      "text/html": [
       "<div>\n",
       "<style scoped>\n",
       "    .dataframe tbody tr th:only-of-type {\n",
       "        vertical-align: middle;\n",
       "    }\n",
       "\n",
       "    .dataframe tbody tr th {\n",
       "        vertical-align: top;\n",
       "    }\n",
       "\n",
       "    .dataframe thead th {\n",
       "        text-align: right;\n",
       "    }\n",
       "</style>\n",
       "<table border=\"1\" class=\"dataframe\">\n",
       "  <thead>\n",
       "    <tr style=\"text-align: right;\">\n",
       "      <th></th>\n",
       "      <th>object</th>\n",
       "    </tr>\n",
       "  </thead>\n",
       "  <tbody>\n",
       "    <tr>\n",
       "      <th>0</th>\n",
       "      <td>Gender</td>\n",
       "    </tr>\n",
       "    <tr>\n",
       "      <th>1</th>\n",
       "      <td>ScheduledDay</td>\n",
       "    </tr>\n",
       "    <tr>\n",
       "      <th>2</th>\n",
       "      <td>AppointmentDay</td>\n",
       "    </tr>\n",
       "    <tr>\n",
       "      <th>3</th>\n",
       "      <td>Neighbourhood</td>\n",
       "    </tr>\n",
       "    <tr>\n",
       "      <th>4</th>\n",
       "      <td>No-show</td>\n",
       "    </tr>\n",
       "  </tbody>\n",
       "</table>\n",
       "</div>"
      ],
      "text/plain": [
       "           object\n",
       "0          Gender\n",
       "1    ScheduledDay\n",
       "2  AppointmentDay\n",
       "3   Neighbourhood\n",
       "4         No-show"
      ]
     },
     "execution_count": 75,
     "metadata": {},
     "output_type": "execute_result"
    }
   ],
   "source": [
    "obj = df.select_dtypes(include = 'object').columns\n",
    "obj = pd.DataFrame({'object':obj})\n",
    "obj"
   ]
  },
  {
   "cell_type": "code",
   "execution_count": 76,
   "metadata": {},
   "outputs": [
    {
     "data": {
      "text/html": [
       "<div>\n",
       "<style scoped>\n",
       "    .dataframe tbody tr th:only-of-type {\n",
       "        vertical-align: middle;\n",
       "    }\n",
       "\n",
       "    .dataframe tbody tr th {\n",
       "        vertical-align: top;\n",
       "    }\n",
       "\n",
       "    .dataframe thead th {\n",
       "        text-align: right;\n",
       "    }\n",
       "</style>\n",
       "<table border=\"1\" class=\"dataframe\">\n",
       "  <thead>\n",
       "    <tr style=\"text-align: right;\">\n",
       "      <th></th>\n",
       "      <th>non-object</th>\n",
       "    </tr>\n",
       "  </thead>\n",
       "  <tbody>\n",
       "    <tr>\n",
       "      <th>0</th>\n",
       "      <td>PatientId</td>\n",
       "    </tr>\n",
       "    <tr>\n",
       "      <th>1</th>\n",
       "      <td>AppointmentID</td>\n",
       "    </tr>\n",
       "    <tr>\n",
       "      <th>2</th>\n",
       "      <td>Age</td>\n",
       "    </tr>\n",
       "    <tr>\n",
       "      <th>3</th>\n",
       "      <td>Scholarship</td>\n",
       "    </tr>\n",
       "    <tr>\n",
       "      <th>4</th>\n",
       "      <td>Hipertension</td>\n",
       "    </tr>\n",
       "    <tr>\n",
       "      <th>5</th>\n",
       "      <td>Diabetes</td>\n",
       "    </tr>\n",
       "    <tr>\n",
       "      <th>6</th>\n",
       "      <td>Alcoholism</td>\n",
       "    </tr>\n",
       "    <tr>\n",
       "      <th>7</th>\n",
       "      <td>Handcap</td>\n",
       "    </tr>\n",
       "    <tr>\n",
       "      <th>8</th>\n",
       "      <td>SMS_received</td>\n",
       "    </tr>\n",
       "  </tbody>\n",
       "</table>\n",
       "</div>"
      ],
      "text/plain": [
       "      non-object\n",
       "0      PatientId\n",
       "1  AppointmentID\n",
       "2            Age\n",
       "3    Scholarship\n",
       "4   Hipertension\n",
       "5       Diabetes\n",
       "6     Alcoholism\n",
       "7        Handcap\n",
       "8   SMS_received"
      ]
     },
     "execution_count": 76,
     "metadata": {},
     "output_type": "execute_result"
    }
   ],
   "source": [
    "non_obj = df.select_dtypes(exclude = 'object').columns\n",
    "non_obj = pd.DataFrame({'non-object':non_obj})\n",
    "non_obj"
   ]
  },
  {
   "cell_type": "code",
   "execution_count": 77,
   "metadata": {},
   "outputs": [
    {
     "data": {
      "text/plain": [
       "0"
      ]
     },
     "execution_count": 77,
     "metadata": {},
     "output_type": "execute_result"
    }
   ],
   "source": [
    "df.duplicated().sum() # 중복 행 파악"
   ]
  },
  {
   "cell_type": "code",
   "execution_count": 78,
   "metadata": {},
   "outputs": [
    {
     "data": {
      "text/plain": [
       "PatientId         0\n",
       "AppointmentID     0\n",
       "Gender            0\n",
       "ScheduledDay      0\n",
       "AppointmentDay    0\n",
       "Age               0\n",
       "Neighbourhood     0\n",
       "Scholarship       0\n",
       "Hipertension      0\n",
       "Diabetes          0\n",
       "Alcoholism        0\n",
       "Handcap           0\n",
       "SMS_received      0\n",
       "No-show           0\n",
       "dtype: int64"
      ]
     },
     "execution_count": 78,
     "metadata": {},
     "output_type": "execute_result"
    }
   ],
   "source": [
    "df.isna().sum() # 결측치 파악"
   ]
  },
  {
   "cell_type": "code",
   "execution_count": 79,
   "metadata": {},
   "outputs": [
    {
     "data": {
      "text/plain": [
       "PatientId          62299\n",
       "AppointmentID     110527\n",
       "Gender                 2\n",
       "ScheduledDay      103549\n",
       "AppointmentDay        27\n",
       "Age                  104\n",
       "Neighbourhood         81\n",
       "Scholarship            2\n",
       "Hipertension           2\n",
       "Diabetes               2\n",
       "Alcoholism             2\n",
       "Handcap                5\n",
       "SMS_received           2\n",
       "No-show                2\n",
       "dtype: int64"
      ]
     },
     "execution_count": 79,
     "metadata": {},
     "output_type": "execute_result"
    }
   ],
   "source": [
    "df.nunique() "
   ]
  },
  {
   "cell_type": "code",
   "execution_count": 80,
   "metadata": {},
   "outputs": [
    {
     "name": "stdout",
     "output_type": "stream",
     "text": [
      "Gender\n",
      "F    71840\n",
      "M    38687\n",
      "Name: count, dtype: int64\n",
      "------------------------------\n",
      "ScheduledDay\n",
      "2016-05-06T07:09:54Z    24\n",
      "2016-05-06T07:09:53Z    23\n",
      "2016-04-25T17:18:27Z    22\n",
      "2016-04-25T17:17:46Z    22\n",
      "2016-04-25T17:17:23Z    19\n",
      "                        ..\n",
      "2016-05-02T09:53:25Z     1\n",
      "2016-05-30T09:12:28Z     1\n",
      "2016-05-16T09:10:04Z     1\n",
      "2016-05-09T10:17:48Z     1\n",
      "2016-04-27T13:30:56Z     1\n",
      "Name: count, Length: 103549, dtype: int64\n",
      "------------------------------\n",
      "AppointmentDay\n",
      "2016-06-06T00:00:00Z    4692\n",
      "2016-05-16T00:00:00Z    4613\n",
      "2016-05-09T00:00:00Z    4520\n",
      "2016-05-30T00:00:00Z    4514\n",
      "2016-06-08T00:00:00Z    4479\n",
      "2016-05-11T00:00:00Z    4474\n",
      "2016-06-01T00:00:00Z    4464\n",
      "2016-06-07T00:00:00Z    4416\n",
      "2016-05-12T00:00:00Z    4394\n",
      "2016-05-02T00:00:00Z    4376\n",
      "2016-05-18T00:00:00Z    4373\n",
      "2016-05-17T00:00:00Z    4372\n",
      "2016-06-02T00:00:00Z    4310\n",
      "2016-05-10T00:00:00Z    4308\n",
      "2016-05-31T00:00:00Z    4279\n",
      "2016-05-05T00:00:00Z    4273\n",
      "2016-05-19T00:00:00Z    4270\n",
      "2016-05-03T00:00:00Z    4256\n",
      "2016-05-04T00:00:00Z    4168\n",
      "2016-06-03T00:00:00Z    4090\n",
      "2016-05-24T00:00:00Z    4009\n",
      "2016-05-13T00:00:00Z    3987\n",
      "2016-05-25T00:00:00Z    3909\n",
      "2016-05-06T00:00:00Z    3879\n",
      "2016-05-20T00:00:00Z    3828\n",
      "2016-04-29T00:00:00Z    3235\n",
      "2016-05-14T00:00:00Z      39\n",
      "Name: count, dtype: int64\n",
      "------------------------------\n",
      "Neighbourhood\n",
      "JARDIM CAMBURI                 7717\n",
      "MARIA ORTIZ                    5805\n",
      "RESISTÊNCIA                    4431\n",
      "JARDIM DA PENHA                3877\n",
      "ITARARÉ                        3514\n",
      "                               ... \n",
      "ILHA DO BOI                      35\n",
      "ILHA DO FRADE                    10\n",
      "AEROPORTO                         8\n",
      "ILHAS OCEÂNICAS DE TRINDADE       2\n",
      "PARQUE INDUSTRIAL                 1\n",
      "Name: count, Length: 81, dtype: int64\n",
      "------------------------------\n",
      "No-show\n",
      "No     88208\n",
      "Yes    22319\n",
      "Name: count, dtype: int64\n",
      "------------------------------\n"
     ]
    }
   ],
   "source": [
    "# object type \n",
    "\n",
    "cols = df.select_dtypes(include = 'object').columns\n",
    "\n",
    "for col in cols:\n",
    "    print(df[col].value_counts())\n",
    "    print('-'*30)"
   ]
  },
  {
   "cell_type": "code",
   "execution_count": 81,
   "metadata": {},
   "outputs": [
    {
     "name": "stdout",
     "output_type": "stream",
     "text": [
      "count    1.105270e+05\n",
      "mean     1.474963e+14\n",
      "std      2.560949e+14\n",
      "min      3.921784e+04\n",
      "25%      4.172614e+12\n",
      "50%      3.173184e+13\n",
      "75%      9.439172e+13\n",
      "max      9.999816e+14\n",
      "Name: PatientId, dtype: float64\n",
      "------------------------------\n",
      "count    1.105270e+05\n",
      "mean     5.675305e+06\n",
      "std      7.129575e+04\n",
      "min      5.030230e+06\n",
      "25%      5.640286e+06\n",
      "50%      5.680573e+06\n",
      "75%      5.725524e+06\n",
      "max      5.790484e+06\n",
      "Name: AppointmentID, dtype: float64\n",
      "------------------------------\n",
      "count    110527.000000\n",
      "mean         37.088874\n",
      "std          23.110205\n",
      "min          -1.000000\n",
      "25%          18.000000\n",
      "50%          37.000000\n",
      "75%          55.000000\n",
      "max         115.000000\n",
      "Name: Age, dtype: float64\n",
      "------------------------------\n",
      "count    110527.000000\n",
      "mean          0.098266\n",
      "std           0.297675\n",
      "min           0.000000\n",
      "25%           0.000000\n",
      "50%           0.000000\n",
      "75%           0.000000\n",
      "max           1.000000\n",
      "Name: Scholarship, dtype: float64\n",
      "------------------------------\n",
      "count    110527.000000\n",
      "mean          0.197246\n",
      "std           0.397921\n",
      "min           0.000000\n",
      "25%           0.000000\n",
      "50%           0.000000\n",
      "75%           0.000000\n",
      "max           1.000000\n",
      "Name: Hipertension, dtype: float64\n",
      "------------------------------\n",
      "count    110527.000000\n",
      "mean          0.071865\n",
      "std           0.258265\n",
      "min           0.000000\n",
      "25%           0.000000\n",
      "50%           0.000000\n",
      "75%           0.000000\n",
      "max           1.000000\n",
      "Name: Diabetes, dtype: float64\n",
      "------------------------------\n",
      "count    110527.000000\n",
      "mean          0.030400\n",
      "std           0.171686\n",
      "min           0.000000\n",
      "25%           0.000000\n",
      "50%           0.000000\n",
      "75%           0.000000\n",
      "max           1.000000\n",
      "Name: Alcoholism, dtype: float64\n",
      "------------------------------\n",
      "count    110527.000000\n",
      "mean          0.022248\n",
      "std           0.161543\n",
      "min           0.000000\n",
      "25%           0.000000\n",
      "50%           0.000000\n",
      "75%           0.000000\n",
      "max           4.000000\n",
      "Name: Handcap, dtype: float64\n",
      "------------------------------\n",
      "count    110527.000000\n",
      "mean          0.321026\n",
      "std           0.466873\n",
      "min           0.000000\n",
      "25%           0.000000\n",
      "50%           0.000000\n",
      "75%           1.000000\n",
      "max           1.000000\n",
      "Name: SMS_received, dtype: float64\n",
      "------------------------------\n"
     ]
    }
   ],
   "source": [
    "#float & int type\n",
    "\n",
    "cols = df.select_dtypes(exclude = 'object').columns\n",
    "\n",
    "for col in cols:\n",
    "    print(df[col].describe())\n",
    "    print('-'*30)"
   ]
  },
  {
   "cell_type": "code",
   "execution_count": 3,
   "metadata": {},
   "outputs": [],
   "source": [
    "# age가 음수가 있으므로 음수 제거\n",
    "cond1 = df['Age']>=0\n",
    "df = df[cond1]"
   ]
  },
  {
   "cell_type": "code",
   "execution_count": 2,
   "metadata": {},
   "outputs": [],
   "source": [
    "df.drop(columns = ['AppointmentID'], inplace = True)"
   ]
  },
  {
   "cell_type": "code",
   "execution_count": 100,
   "metadata": {},
   "outputs": [],
   "source": [
    "#ScheduledDay 예약 생성 날짜 / AppointmentDay 실제 병원 방문 날짜\n",
    "#AppointmentDay - ScheduledDay\n",
    "# 날짜 형식 변환\n",
    "# 올바른 방법: timedelta 값을 일 단위로 변환\n",
    "df['ScheduledDay_date'] = df['ScheduledDay'].str[:10]\n",
    "df['AppointmentDay_date'] = df['AppointmentDay'].str[:10]\n",
    "\n",
    "df['ScheduledDay_date'] = pd.to_datetime(df['ScheduledDay_date'])\n",
    "df['AppointmentDay_date'] = pd.to_datetime(df['AppointmentDay_date'])\n",
    "\n",
    "df['day_diff'] = df['AppointmentDay_date'] - df['ScheduledDay_date']\n",
    "\n",
    "df['day_diff'] = df['day_diff'].dt.days"
   ]
  },
  {
   "cell_type": "code",
   "execution_count": null,
   "metadata": {},
   "outputs": [
    {
     "data": {
      "text/plain": [
       "count    110526.000000\n",
       "mean         10.183794\n",
       "std          15.255034\n",
       "min          -6.000000\n",
       "25%           0.000000\n",
       "50%           4.000000\n",
       "75%          15.000000\n",
       "max         179.000000\n",
       "Name: day_diff, dtype: float64"
      ]
     },
     "execution_count": 82,
     "metadata": {},
     "output_type": "execute_result"
    }
   ],
   "source": [
    "df['day_diff'].describe() "
   ]
  },
  {
   "cell_type": "code",
   "execution_count": 101,
   "metadata": {},
   "outputs": [],
   "source": [
    "#음수 - > 방문날짜가 예약날짜보다 먼저라는건데 말이 안됨 -> 음수 삭제\n",
    "\n",
    "cond1 = df['day_diff'] >= 0\n",
    "df = df[cond1]"
   ]
  },
  {
   "cell_type": "code",
   "execution_count": 102,
   "metadata": {},
   "outputs": [
    {
     "data": {
      "text/plain": [
       "count    110521.000000\n",
       "mean         10.184345\n",
       "std          15.255153\n",
       "min           0.000000\n",
       "25%           0.000000\n",
       "50%           4.000000\n",
       "75%          15.000000\n",
       "max         179.000000\n",
       "Name: day_diff, dtype: float64"
      ]
     },
     "execution_count": 102,
     "metadata": {},
     "output_type": "execute_result"
    }
   ],
   "source": [
    "df['day_diff'].describe()"
   ]
  },
  {
   "cell_type": "code",
   "execution_count": 103,
   "metadata": {},
   "outputs": [
    {
     "data": {
      "text/html": [
       "<div>\n",
       "<style scoped>\n",
       "    .dataframe tbody tr th:only-of-type {\n",
       "        vertical-align: middle;\n",
       "    }\n",
       "\n",
       "    .dataframe tbody tr th {\n",
       "        vertical-align: top;\n",
       "    }\n",
       "\n",
       "    .dataframe thead th {\n",
       "        text-align: right;\n",
       "    }\n",
       "</style>\n",
       "<table border=\"1\" class=\"dataframe\">\n",
       "  <thead>\n",
       "    <tr style=\"text-align: right;\">\n",
       "      <th></th>\n",
       "      <th>PatientId</th>\n",
       "      <th>Gender</th>\n",
       "      <th>ScheduledDay</th>\n",
       "      <th>AppointmentDay</th>\n",
       "      <th>Age</th>\n",
       "      <th>Neighbourhood</th>\n",
       "      <th>Scholarship</th>\n",
       "      <th>Hipertension</th>\n",
       "      <th>Diabetes</th>\n",
       "      <th>Alcoholism</th>\n",
       "      <th>Handcap</th>\n",
       "      <th>SMS_received</th>\n",
       "      <th>No-show</th>\n",
       "      <th>ScheduledDay_date</th>\n",
       "      <th>AppointmentDay_date</th>\n",
       "      <th>day_diff</th>\n",
       "      <th>time_diff</th>\n",
       "    </tr>\n",
       "  </thead>\n",
       "  <tbody>\n",
       "    <tr>\n",
       "      <th>0</th>\n",
       "      <td>2.987250e+13</td>\n",
       "      <td>F</td>\n",
       "      <td>2016-04-29 18:38:08+00:00</td>\n",
       "      <td>2016-04-29 00:00:00+00:00</td>\n",
       "      <td>62</td>\n",
       "      <td>JARDIM DA PENHA</td>\n",
       "      <td>0</td>\n",
       "      <td>1</td>\n",
       "      <td>0</td>\n",
       "      <td>0</td>\n",
       "      <td>0</td>\n",
       "      <td>0</td>\n",
       "      <td>No</td>\n",
       "      <td>2016-04-29</td>\n",
       "      <td>2016-04-29</td>\n",
       "      <td>0</td>\n",
       "      <td>0</td>\n",
       "    </tr>\n",
       "    <tr>\n",
       "      <th>1</th>\n",
       "      <td>5.589978e+14</td>\n",
       "      <td>M</td>\n",
       "      <td>2016-04-29 16:08:27+00:00</td>\n",
       "      <td>2016-04-29 00:00:00+00:00</td>\n",
       "      <td>56</td>\n",
       "      <td>JARDIM DA PENHA</td>\n",
       "      <td>0</td>\n",
       "      <td>0</td>\n",
       "      <td>0</td>\n",
       "      <td>0</td>\n",
       "      <td>0</td>\n",
       "      <td>0</td>\n",
       "      <td>No</td>\n",
       "      <td>2016-04-29</td>\n",
       "      <td>2016-04-29</td>\n",
       "      <td>0</td>\n",
       "      <td>0</td>\n",
       "    </tr>\n",
       "  </tbody>\n",
       "</table>\n",
       "</div>"
      ],
      "text/plain": [
       "      PatientId Gender              ScheduledDay            AppointmentDay  \\\n",
       "0  2.987250e+13      F 2016-04-29 18:38:08+00:00 2016-04-29 00:00:00+00:00   \n",
       "1  5.589978e+14      M 2016-04-29 16:08:27+00:00 2016-04-29 00:00:00+00:00   \n",
       "\n",
       "   Age    Neighbourhood  Scholarship  Hipertension  Diabetes  Alcoholism  \\\n",
       "0   62  JARDIM DA PENHA            0             1         0           0   \n",
       "1   56  JARDIM DA PENHA            0             0         0           0   \n",
       "\n",
       "   Handcap  SMS_received No-show ScheduledDay_date AppointmentDay_date  \\\n",
       "0        0             0      No        2016-04-29          2016-04-29   \n",
       "1        0             0      No        2016-04-29          2016-04-29   \n",
       "\n",
       "   day_diff  time_diff  \n",
       "0         0          0  \n",
       "1         0          0  "
      ]
     },
     "execution_count": 103,
     "metadata": {},
     "output_type": "execute_result"
    }
   ],
   "source": [
    "# 당일 예약(방문 접수) (AppointmentDay-ScheduledDay) < 0 -> 0 으로 / 나머지 예약 시간 차이 파악\n",
    "df['AppointmentDay'] = pd.to_datetime(df['AppointmentDay'])\n",
    "df['ScheduledDay'] = pd.to_datetime(df['ScheduledDay']) #예약이 먼저면 이 값이 더 낮음\n",
    "\n",
    "df['time_diff'] = df['AppointmentDay']-df['ScheduledDay'] # 결과가 양수로 나오겠지?\n",
    "df['time_diff'] = df['time_diff'].dt.total_seconds()/60/60 # 시간으로 반환\n",
    "\n",
    "import numpy as np\n",
    "df['time_diff'] = np.where(df['time_diff']<0, 0, df['time_diff'])\n",
    "df['time_diff'] = round(df['time_diff'],0).astype(int)\n",
    "df.head(2)"
   ]
  },
  {
   "cell_type": "code",
   "execution_count": 104,
   "metadata": {},
   "outputs": [
    {
     "data": {
      "text/html": [
       "<div>\n",
       "<style scoped>\n",
       "    .dataframe tbody tr th:only-of-type {\n",
       "        vertical-align: middle;\n",
       "    }\n",
       "\n",
       "    .dataframe tbody tr th {\n",
       "        vertical-align: top;\n",
       "    }\n",
       "\n",
       "    .dataframe thead th {\n",
       "        text-align: right;\n",
       "    }\n",
       "</style>\n",
       "<table border=\"1\" class=\"dataframe\">\n",
       "  <thead>\n",
       "    <tr style=\"text-align: right;\">\n",
       "      <th></th>\n",
       "      <th>PatientId</th>\n",
       "      <th>Gender</th>\n",
       "      <th>ScheduledDay</th>\n",
       "      <th>AppointmentDay</th>\n",
       "      <th>Age</th>\n",
       "      <th>Neighbourhood</th>\n",
       "      <th>Scholarship</th>\n",
       "      <th>Hipertension</th>\n",
       "      <th>Diabetes</th>\n",
       "      <th>Alcoholism</th>\n",
       "      <th>Handcap</th>\n",
       "      <th>SMS_received</th>\n",
       "      <th>No-show</th>\n",
       "      <th>ScheduledDay_date</th>\n",
       "      <th>AppointmentDay_date</th>\n",
       "      <th>day_diff</th>\n",
       "      <th>time_diff</th>\n",
       "      <th>ReservationType</th>\n",
       "    </tr>\n",
       "  </thead>\n",
       "  <tbody>\n",
       "    <tr>\n",
       "      <th>0</th>\n",
       "      <td>2.987250e+13</td>\n",
       "      <td>F</td>\n",
       "      <td>2016-04-29 18:38:08+00:00</td>\n",
       "      <td>2016-04-29 00:00:00+00:00</td>\n",
       "      <td>62</td>\n",
       "      <td>JARDIM DA PENHA</td>\n",
       "      <td>0</td>\n",
       "      <td>1</td>\n",
       "      <td>0</td>\n",
       "      <td>0</td>\n",
       "      <td>0</td>\n",
       "      <td>0</td>\n",
       "      <td>No</td>\n",
       "      <td>2016-04-29</td>\n",
       "      <td>2016-04-29</td>\n",
       "      <td>0</td>\n",
       "      <td>0</td>\n",
       "      <td>SameDay</td>\n",
       "    </tr>\n",
       "    <tr>\n",
       "      <th>1</th>\n",
       "      <td>5.589978e+14</td>\n",
       "      <td>M</td>\n",
       "      <td>2016-04-29 16:08:27+00:00</td>\n",
       "      <td>2016-04-29 00:00:00+00:00</td>\n",
       "      <td>56</td>\n",
       "      <td>JARDIM DA PENHA</td>\n",
       "      <td>0</td>\n",
       "      <td>0</td>\n",
       "      <td>0</td>\n",
       "      <td>0</td>\n",
       "      <td>0</td>\n",
       "      <td>0</td>\n",
       "      <td>No</td>\n",
       "      <td>2016-04-29</td>\n",
       "      <td>2016-04-29</td>\n",
       "      <td>0</td>\n",
       "      <td>0</td>\n",
       "      <td>SameDay</td>\n",
       "    </tr>\n",
       "  </tbody>\n",
       "</table>\n",
       "</div>"
      ],
      "text/plain": [
       "      PatientId Gender              ScheduledDay            AppointmentDay  \\\n",
       "0  2.987250e+13      F 2016-04-29 18:38:08+00:00 2016-04-29 00:00:00+00:00   \n",
       "1  5.589978e+14      M 2016-04-29 16:08:27+00:00 2016-04-29 00:00:00+00:00   \n",
       "\n",
       "   Age    Neighbourhood  Scholarship  Hipertension  Diabetes  Alcoholism  \\\n",
       "0   62  JARDIM DA PENHA            0             1         0           0   \n",
       "1   56  JARDIM DA PENHA            0             0         0           0   \n",
       "\n",
       "   Handcap  SMS_received No-show ScheduledDay_date AppointmentDay_date  \\\n",
       "0        0             0      No        2016-04-29          2016-04-29   \n",
       "1        0             0      No        2016-04-29          2016-04-29   \n",
       "\n",
       "   day_diff  time_diff ReservationType  \n",
       "0         0          0         SameDay  \n",
       "1         0          0         SameDay  "
      ]
     },
     "execution_count": 104,
     "metadata": {},
     "output_type": "execute_result"
    }
   ],
   "source": [
    "# 당일 예약 인 경우와 선예약 컬럼 추가\n",
    "df['ReservationType'] = np.where(df['day_diff'] == 0 , 'SameDay','PreScheduled')\n",
    "df.head(2)"
   ]
  },
  {
   "cell_type": "code",
   "execution_count": 105,
   "metadata": {},
   "outputs": [
    {
     "data": {
      "text/html": [
       "<div>\n",
       "<style scoped>\n",
       "    .dataframe tbody tr th:only-of-type {\n",
       "        vertical-align: middle;\n",
       "    }\n",
       "\n",
       "    .dataframe tbody tr th {\n",
       "        vertical-align: top;\n",
       "    }\n",
       "\n",
       "    .dataframe thead th {\n",
       "        text-align: right;\n",
       "    }\n",
       "</style>\n",
       "<table border=\"1\" class=\"dataframe\">\n",
       "  <thead>\n",
       "    <tr style=\"text-align: right;\">\n",
       "      <th></th>\n",
       "      <th>PatientId</th>\n",
       "      <th>Gender</th>\n",
       "      <th>ScheduledDay</th>\n",
       "      <th>AppointmentDay</th>\n",
       "      <th>Age</th>\n",
       "      <th>Neighbourhood</th>\n",
       "      <th>Scholarship</th>\n",
       "      <th>Hipertension</th>\n",
       "      <th>Diabetes</th>\n",
       "      <th>Alcoholism</th>\n",
       "      <th>Handcap</th>\n",
       "      <th>SMS_received</th>\n",
       "      <th>No-show</th>\n",
       "      <th>ScheduledDay_date</th>\n",
       "      <th>AppointmentDay_date</th>\n",
       "      <th>day_diff</th>\n",
       "      <th>time_diff</th>\n",
       "      <th>ReservationType</th>\n",
       "      <th>Appointment_weekday</th>\n",
       "    </tr>\n",
       "  </thead>\n",
       "  <tbody>\n",
       "    <tr>\n",
       "      <th>0</th>\n",
       "      <td>2.987250e+13</td>\n",
       "      <td>F</td>\n",
       "      <td>2016-04-29 18:38:08+00:00</td>\n",
       "      <td>2016-04-29 00:00:00+00:00</td>\n",
       "      <td>62</td>\n",
       "      <td>JARDIM DA PENHA</td>\n",
       "      <td>0</td>\n",
       "      <td>1</td>\n",
       "      <td>0</td>\n",
       "      <td>0</td>\n",
       "      <td>0</td>\n",
       "      <td>0</td>\n",
       "      <td>No</td>\n",
       "      <td>2016-04-29</td>\n",
       "      <td>2016-04-29</td>\n",
       "      <td>0</td>\n",
       "      <td>0</td>\n",
       "      <td>SameDay</td>\n",
       "      <td>4</td>\n",
       "    </tr>\n",
       "    <tr>\n",
       "      <th>1</th>\n",
       "      <td>5.589978e+14</td>\n",
       "      <td>M</td>\n",
       "      <td>2016-04-29 16:08:27+00:00</td>\n",
       "      <td>2016-04-29 00:00:00+00:00</td>\n",
       "      <td>56</td>\n",
       "      <td>JARDIM DA PENHA</td>\n",
       "      <td>0</td>\n",
       "      <td>0</td>\n",
       "      <td>0</td>\n",
       "      <td>0</td>\n",
       "      <td>0</td>\n",
       "      <td>0</td>\n",
       "      <td>No</td>\n",
       "      <td>2016-04-29</td>\n",
       "      <td>2016-04-29</td>\n",
       "      <td>0</td>\n",
       "      <td>0</td>\n",
       "      <td>SameDay</td>\n",
       "      <td>4</td>\n",
       "    </tr>\n",
       "  </tbody>\n",
       "</table>\n",
       "</div>"
      ],
      "text/plain": [
       "      PatientId Gender              ScheduledDay            AppointmentDay  \\\n",
       "0  2.987250e+13      F 2016-04-29 18:38:08+00:00 2016-04-29 00:00:00+00:00   \n",
       "1  5.589978e+14      M 2016-04-29 16:08:27+00:00 2016-04-29 00:00:00+00:00   \n",
       "\n",
       "   Age    Neighbourhood  Scholarship  Hipertension  Diabetes  Alcoholism  \\\n",
       "0   62  JARDIM DA PENHA            0             1         0           0   \n",
       "1   56  JARDIM DA PENHA            0             0         0           0   \n",
       "\n",
       "   Handcap  SMS_received No-show ScheduledDay_date AppointmentDay_date  \\\n",
       "0        0             0      No        2016-04-29          2016-04-29   \n",
       "1        0             0      No        2016-04-29          2016-04-29   \n",
       "\n",
       "   day_diff  time_diff ReservationType  Appointment_weekday  \n",
       "0         0          0         SameDay                    4  \n",
       "1         0          0         SameDay                    4  "
      ]
     },
     "execution_count": 105,
     "metadata": {},
     "output_type": "execute_result"
    }
   ],
   "source": [
    "# Appointment_weekday\t방문일의 요일\n",
    "df['AppointmentDay'] = pd.to_datetime(df['AppointmentDay'])\n",
    "df['Appointment_weekday'] = df['AppointmentDay'].dt.day_of_week # 0 월요일 ~ 6 일요일\n",
    "\n",
    "df.head(2)"
   ]
  },
  {
   "cell_type": "code",
   "execution_count": 106,
   "metadata": {},
   "outputs": [
    {
     "name": "stdout",
     "output_type": "stream",
     "text": [
      "Appointment_weekday\n",
      "2    25866\n",
      "1    25638\n",
      "0    22713\n",
      "4    19019\n",
      "3    17246\n",
      "5       39\n",
      "Name: count, dtype: int64\n"
     ]
    }
   ],
   "source": [
    "# is_weekend\t예약일 또는 방문일이 주말인지 여부 \n",
    "print(df['Appointment_weekday'].value_counts()) #6(일요일) 존재 X\n",
    "df['is_weekend'] = np.where(df['Appointment_weekday'] == 5, 1, 0)"
   ]
  },
  {
   "cell_type": "code",
   "execution_count": 107,
   "metadata": {},
   "outputs": [
    {
     "name": "stdout",
     "output_type": "stream",
     "text": [
      "is_weekend\n",
      "0    110482\n",
      "1        39\n",
      "Name: count, dtype: int64\n"
     ]
    }
   ],
   "source": [
    "print(df['is_weekend'].value_counts())"
   ]
  },
  {
   "cell_type": "code",
   "execution_count": 108,
   "metadata": {},
   "outputs": [],
   "source": [
    "cols = ['ScheduledDay','AppointmentDay']\n",
    "df.drop(columns = cols, inplace = True)"
   ]
  },
  {
   "cell_type": "code",
   "execution_count": 109,
   "metadata": {},
   "outputs": [
    {
     "data": {
      "text/html": [
       "<div>\n",
       "<style scoped>\n",
       "    .dataframe tbody tr th:only-of-type {\n",
       "        vertical-align: middle;\n",
       "    }\n",
       "\n",
       "    .dataframe tbody tr th {\n",
       "        vertical-align: top;\n",
       "    }\n",
       "\n",
       "    .dataframe thead th {\n",
       "        text-align: right;\n",
       "    }\n",
       "</style>\n",
       "<table border=\"1\" class=\"dataframe\">\n",
       "  <thead>\n",
       "    <tr style=\"text-align: right;\">\n",
       "      <th></th>\n",
       "      <th>PatientId</th>\n",
       "      <th>Gender</th>\n",
       "      <th>Age</th>\n",
       "      <th>Neighbourhood</th>\n",
       "      <th>Scholarship</th>\n",
       "      <th>Hipertension</th>\n",
       "      <th>Diabetes</th>\n",
       "      <th>Alcoholism</th>\n",
       "      <th>Handcap</th>\n",
       "      <th>SMS_received</th>\n",
       "      <th>No-show</th>\n",
       "      <th>ScheduledDay_date</th>\n",
       "      <th>AppointmentDay_date</th>\n",
       "      <th>day_diff</th>\n",
       "      <th>time_diff</th>\n",
       "      <th>ReservationType</th>\n",
       "      <th>Appointment_weekday</th>\n",
       "      <th>is_weekend</th>\n",
       "    </tr>\n",
       "  </thead>\n",
       "  <tbody>\n",
       "    <tr>\n",
       "      <th>0</th>\n",
       "      <td>2.987250e+13</td>\n",
       "      <td>F</td>\n",
       "      <td>62</td>\n",
       "      <td>JARDIM DA PENHA</td>\n",
       "      <td>0</td>\n",
       "      <td>1</td>\n",
       "      <td>0</td>\n",
       "      <td>0</td>\n",
       "      <td>0</td>\n",
       "      <td>0</td>\n",
       "      <td>No</td>\n",
       "      <td>2016-04-29</td>\n",
       "      <td>2016-04-29</td>\n",
       "      <td>0</td>\n",
       "      <td>0</td>\n",
       "      <td>SameDay</td>\n",
       "      <td>4</td>\n",
       "      <td>0</td>\n",
       "    </tr>\n",
       "    <tr>\n",
       "      <th>1</th>\n",
       "      <td>5.589978e+14</td>\n",
       "      <td>M</td>\n",
       "      <td>56</td>\n",
       "      <td>JARDIM DA PENHA</td>\n",
       "      <td>0</td>\n",
       "      <td>0</td>\n",
       "      <td>0</td>\n",
       "      <td>0</td>\n",
       "      <td>0</td>\n",
       "      <td>0</td>\n",
       "      <td>No</td>\n",
       "      <td>2016-04-29</td>\n",
       "      <td>2016-04-29</td>\n",
       "      <td>0</td>\n",
       "      <td>0</td>\n",
       "      <td>SameDay</td>\n",
       "      <td>4</td>\n",
       "      <td>0</td>\n",
       "    </tr>\n",
       "  </tbody>\n",
       "</table>\n",
       "</div>"
      ],
      "text/plain": [
       "      PatientId Gender  Age    Neighbourhood  Scholarship  Hipertension  \\\n",
       "0  2.987250e+13      F   62  JARDIM DA PENHA            0             1   \n",
       "1  5.589978e+14      M   56  JARDIM DA PENHA            0             0   \n",
       "\n",
       "   Diabetes  Alcoholism  Handcap  SMS_received No-show ScheduledDay_date  \\\n",
       "0         0           0        0             0      No        2016-04-29   \n",
       "1         0           0        0             0      No        2016-04-29   \n",
       "\n",
       "  AppointmentDay_date  day_diff  time_diff ReservationType  \\\n",
       "0          2016-04-29         0          0         SameDay   \n",
       "1          2016-04-29         0          0         SameDay   \n",
       "\n",
       "   Appointment_weekday  is_weekend  \n",
       "0                    4           0  \n",
       "1                    4           0  "
      ]
     },
     "execution_count": 109,
     "metadata": {},
     "output_type": "execute_result"
    }
   ],
   "source": [
    "df.head(2)"
   ]
  },
  {
   "cell_type": "code",
   "execution_count": 110,
   "metadata": {},
   "outputs": [
    {
     "data": {
      "text/plain": [
       "110521"
      ]
     },
     "execution_count": 110,
     "metadata": {},
     "output_type": "execute_result"
    }
   ],
   "source": [
    "len(df)"
   ]
  },
  {
   "cell_type": "code",
   "execution_count": 112,
   "metadata": {},
   "outputs": [],
   "source": [
    "#과거-현재까지 no-show 횟수 합 <- no-show 횟수 많이 한 사람 또 no-show 가능성 높다고 추정\n",
    "df['No-show'] = np.where(df['No-show']=='No',0,1)\n",
    "df['Num_App_Missed'] = df.groupby('PatientId')['No-show'].transform('cumsum') #과거에 no-show한 전적 수"
   ]
  },
  {
   "cell_type": "code",
   "execution_count": 113,
   "metadata": {},
   "outputs": [
    {
     "data": {
      "text/html": [
       "<div>\n",
       "<style scoped>\n",
       "    .dataframe tbody tr th:only-of-type {\n",
       "        vertical-align: middle;\n",
       "    }\n",
       "\n",
       "    .dataframe tbody tr th {\n",
       "        vertical-align: top;\n",
       "    }\n",
       "\n",
       "    .dataframe thead th {\n",
       "        text-align: right;\n",
       "    }\n",
       "</style>\n",
       "<table border=\"1\" class=\"dataframe\">\n",
       "  <thead>\n",
       "    <tr style=\"text-align: right;\">\n",
       "      <th></th>\n",
       "      <th>PatientId</th>\n",
       "      <th>Gender</th>\n",
       "      <th>Age</th>\n",
       "      <th>Neighbourhood</th>\n",
       "      <th>Scholarship</th>\n",
       "      <th>Hipertension</th>\n",
       "      <th>Diabetes</th>\n",
       "      <th>Alcoholism</th>\n",
       "      <th>Handcap</th>\n",
       "      <th>SMS_received</th>\n",
       "      <th>No-show</th>\n",
       "      <th>ScheduledDay_date</th>\n",
       "      <th>AppointmentDay_date</th>\n",
       "      <th>day_diff</th>\n",
       "      <th>time_diff</th>\n",
       "      <th>ReservationType</th>\n",
       "      <th>Appointment_weekday</th>\n",
       "      <th>is_weekend</th>\n",
       "      <th>Num_App_Missed</th>\n",
       "    </tr>\n",
       "  </thead>\n",
       "  <tbody>\n",
       "    <tr>\n",
       "      <th>0</th>\n",
       "      <td>2.987250e+13</td>\n",
       "      <td>F</td>\n",
       "      <td>62</td>\n",
       "      <td>JARDIM DA PENHA</td>\n",
       "      <td>0</td>\n",
       "      <td>1</td>\n",
       "      <td>0</td>\n",
       "      <td>0</td>\n",
       "      <td>0</td>\n",
       "      <td>0</td>\n",
       "      <td>0</td>\n",
       "      <td>2016-04-29</td>\n",
       "      <td>2016-04-29</td>\n",
       "      <td>0</td>\n",
       "      <td>0</td>\n",
       "      <td>SameDay</td>\n",
       "      <td>4</td>\n",
       "      <td>0</td>\n",
       "      <td>0</td>\n",
       "    </tr>\n",
       "    <tr>\n",
       "      <th>1</th>\n",
       "      <td>5.589978e+14</td>\n",
       "      <td>M</td>\n",
       "      <td>56</td>\n",
       "      <td>JARDIM DA PENHA</td>\n",
       "      <td>0</td>\n",
       "      <td>0</td>\n",
       "      <td>0</td>\n",
       "      <td>0</td>\n",
       "      <td>0</td>\n",
       "      <td>0</td>\n",
       "      <td>0</td>\n",
       "      <td>2016-04-29</td>\n",
       "      <td>2016-04-29</td>\n",
       "      <td>0</td>\n",
       "      <td>0</td>\n",
       "      <td>SameDay</td>\n",
       "      <td>4</td>\n",
       "      <td>0</td>\n",
       "      <td>0</td>\n",
       "    </tr>\n",
       "  </tbody>\n",
       "</table>\n",
       "</div>"
      ],
      "text/plain": [
       "      PatientId Gender  Age    Neighbourhood  Scholarship  Hipertension  \\\n",
       "0  2.987250e+13      F   62  JARDIM DA PENHA            0             1   \n",
       "1  5.589978e+14      M   56  JARDIM DA PENHA            0             0   \n",
       "\n",
       "   Diabetes  Alcoholism  Handcap  SMS_received  No-show ScheduledDay_date  \\\n",
       "0         0           0        0             0        0        2016-04-29   \n",
       "1         0           0        0             0        0        2016-04-29   \n",
       "\n",
       "  AppointmentDay_date  day_diff  time_diff ReservationType  \\\n",
       "0          2016-04-29         0          0         SameDay   \n",
       "1          2016-04-29         0          0         SameDay   \n",
       "\n",
       "   Appointment_weekday  is_weekend  Num_App_Missed  \n",
       "0                    4           0               0  \n",
       "1                    4           0               0  "
      ]
     },
     "execution_count": 113,
     "metadata": {},
     "output_type": "execute_result"
    }
   ],
   "source": [
    "df.head(2)"
   ]
  },
  {
   "cell_type": "code",
   "execution_count": 5,
   "metadata": {},
   "outputs": [],
   "source": [
    "df.drop(columns = ['PatientId','ScheduledDay','AppointmentDay'], inplace = True)"
   ]
  },
  {
   "cell_type": "code",
   "execution_count": 127,
   "metadata": {},
   "outputs": [
    {
     "data": {
      "image/png": "[encoded data removed]",
      "text/plain": [
       "<Figure size 1000x800 with 2 Axes>"
      ]
     },
     "metadata": {},
     "output_type": "display_data"
    }
   ],
   "source": [
    "#당뇨 & 고혈압\n",
    "df_copy = df.copy()\n",
    "from sklearn.preprocessing import LabelEncoder\n",
    "encoder = LabelEncoder()\n",
    "cols = df_copy.select_dtypes(include = 'object').columns\n",
    "for col in cols:\n",
    "    df_copy[col] = encoder.fit_transform(df_copy[col])\n",
    "\n",
    "# 변수 간 상관관계 계산\n",
    "corr_matrix = df_copy[['Gender','Age','Scholarship','Hipertension','Diabetes','Alcoholism','Handcap']].corr()\n",
    "\n",
    "import seaborn as sns\n",
    "\n",
    "# Heatmap 시각화\n",
    "plt.figure(figsize=(10, 8))\n",
    "sns.heatmap(corr_matrix, annot=True, cmap='coolwarm', fmt='.2f', linewidths=0.5, cbar=True)\n",
    "\n",
    "# 제목 추가\n",
    "plt.title('Correlation Heatmap')\n",
    "\n",
    "# 그래프 표시\n",
    "plt.show()\n"
   ]
  },
  {
   "cell_type": "code",
   "execution_count": 6,
   "metadata": {},
   "outputs": [],
   "source": [
    "df[\"diabetes&Hipertension\"] = df[\"Diabetes\"]*df[\"Hipertension\"]\n"
   ]
  },
  {
   "cell_type": "code",
   "execution_count": 9,
   "metadata": {},
   "outputs": [
    {
     "data": {
      "text/plain": [
       "Handcap\n",
       "0    108285\n",
       "1      2241\n",
       "Name: count, dtype: int64"
      ]
     },
     "execution_count": 9,
     "metadata": {},
     "output_type": "execute_result"
    }
   ],
   "source": [
    "# Handcap 0->0 / 나머지 1,2,3,4 - > 1로\n",
    "df['Handcap'] = np.where(df['Handcap'] == 0 , 0,1)\n",
    "df['Handcap'].value_counts()"
   ]
  },
  {
   "cell_type": "markdown",
   "metadata": {},
   "source": [
    "#Modeling"
   ]
  },
  {
   "cell_type": "markdown",
   "metadata": {},
   "source": [
    "#Optuna 활용 -> 최적 파라미터 찾기"
   ]
  },
  {
   "cell_type": "code",
   "execution_count": 10,
   "metadata": {},
   "outputs": [],
   "source": [
    "# 최종 모델\n",
    "import pandas as pd\n",
    "\n",
    "x = df.drop(columns = ['No-show'])\n",
    "\n",
    "from sklearn.preprocessing import LabelEncoder\n",
    "encoder = LabelEncoder()\n",
    "\n",
    "cols = x.select_dtypes(include = 'object').columns\n",
    "\n",
    "for col in cols:\n",
    "    x[col] = encoder.fit_transform(x[col])\n",
    "\n",
    "df['No-show'] = encoder.fit_transform(df['No-show'])\n",
    "y = df['No-show']\n",
    "\n",
    "from sklearn.model_selection import train_test_split\n",
    "x_train, x_val, y_train, y_val = train_test_split(x,y, random_state = 42, test_size = 0.3, stratify=y)\n",
    "\n",
    "from sklearn.ensemble import RandomForestClassifier\n",
    "rf = RandomForestClassifier(random_state = 42, n_estimators=150, max_depth=15, min_samples_split=5)\n",
    "rf.fit(x_train, y_train)\n",
    "\n",
    "rf_pred_train = rf.predict(x_train)\n",
    "rf_pred = rf.predict(x_val)\n",
    "\n",
    "rf_pred_proba_train = rf.predict_proba(x_train)\n",
    "rf_pred_proba = rf.predict_proba(x_val)\n"
   ]
  },
  {
   "cell_type": "code",
   "execution_count": null,
   "metadata": {},
   "outputs": [
    {
     "name": "stdout",
     "output_type": "stream",
     "text": [
      "RandomForest\n",
      "accuracy_score : 0.7964\n",
      "recall_score : 0.0172\n",
      "precision_score : 0.4035\n",
      "f1-score : 0.0329\n"
     ]
    },
    {
     "ename": "",
     "evalue": "",
     "output_type": "error",
     "traceback": [
      "\u001b[1;31mThe Kernel crashed while executing code in the current cell or a previous cell. \n",
      "\u001b[1;31mPlease review the code in the cell(s) to identify a possible cause of the failure. \n",
      "\u001b[1;31mClick <a href='https://aka.ms/vscodeJupyterKernelCrash'>here</a> for more info. \n",
      "\u001b[1;31mView Jupyter <a href='command:jupyter.viewOutput'>log</a> for further details."
     ]
    }
   ],
   "source": [
    "from sklearn.metrics import accuracy_score,recall_score,precision_score,f1_score\n",
    "\n",
    "rf_accuracy = accuracy_score(y_val,rf_pred)\n",
    "rf_recall = recall_score(y_val, rf_pred)\n",
    "rf_precision = precision_score(y_val, rf_pred)\n",
    "rf_score = f1_score(y_val, rf_pred)\n",
    "\n",
    "print('RandomForest')\n",
    "print('accuracy_score : {:.4f}'.format(rf_accuracy))\n",
    "print('recall_score : {:.4f}'.format(rf_recall))\n",
    "print('precision_score : {:.4f}'.format(rf_precision))\n",
    "print('f1-score : {:.4f}'.format(rf_score))"
   ]
  },
  {
   "cell_type": "code",
   "execution_count": null,
   "metadata": {},
   "outputs": [],
   "source": [
    "#df.to_csv('df_final.csv',index = False)"
   ]
  },
  {
   "cell_type": "code",
   "execution_count": 30,
   "metadata": {},
   "outputs": [],
   "source": [
    "import matplotlib.pyplot as plt\n",
    "from sklearn.metrics import confusion_matrix, classification_report, roc_curve, auc, RocCurveDisplay, ConfusionMatrixDisplay\n",
    "\n",
    "# Confusion Matrix 계산 및 시각화\n",
    "def plot_confusion_matrix(y_true, y_pred):\n",
    "    cm = confusion_matrix(y_true, y_pred)\n",
    "    disp = ConfusionMatrixDisplay(confusion_matrix=cm, display_labels=[ \"Show\",\"No-show\"])\n",
    "    disp.plot(cmap=plt.cm.Blues)\n",
    "    plt.title(\"Confusion Matrix\")\n",
    "    plt.show()\n",
    "\n",
    "# ROC-AUC Curve 계산 및 시각화\n",
    "def plot_roc_auc_curve(y_true, y_scores):\n",
    "    fpr, tpr, thresholds = roc_curve(y_true, y_scores)\n",
    "    roc_auc = auc(fpr, tpr)\n",
    "    \n",
    "    plt.figure()\n",
    "    plt.plot(fpr, tpr, color=\"darkorange\", lw=2, label=f\"ROC curve (area = {roc_auc:.2f})\")\n",
    "    plt.plot([0, 1], [0, 1], color=\"navy\", lw=2, linestyle=\"--\")\n",
    "    plt.xlabel(\"False Positive Rate\")\n",
    "    plt.ylabel(\"True Positive Rate\")\n",
    "    plt.title(\"ROC Curve (Val)\")\n",
    "    plt.legend(loc=\"lower right\")\n",
    "    plt.show()\n"
   ]
  },
  {
   "cell_type": "code",
   "execution_count": 14,
   "metadata": {},
   "outputs": [
    {
     "data": {
      "image/png": "[encoded data removed]",
      "text/plain": [
       "<Figure size 640x480 with 2 Axes>"
      ]
     },
     "metadata": {},
     "output_type": "display_data"
    }
   ],
   "source": [
    "plot_confusion_matrix(y_val, rf_pred)"
   ]
  },
  {
   "cell_type": "code",
   "execution_count": 29,
   "metadata": {},
   "outputs": [
    {
     "data": {
      "image/png": "[encoded data removed]",
      "text/plain": [
       "<Figure size 640x480 with 1 Axes>"
      ]
     },
     "metadata": {},
     "output_type": "display_data"
    }
   ],
   "source": [
    "plot_roc_auc_curve(y_train, rf_pred_proba_train[:,1])"
   ]
  },
  {
   "cell_type": "code",
   "execution_count": 31,
   "metadata": {},
   "outputs": [
    {
     "data": {
      "image/png": "[encoded data removed]",
      "text/plain": [
       "<Figure size 640x480 with 1 Axes>"
      ]
     },
     "metadata": {},
     "output_type": "display_data"
    }
   ],
   "source": [
    "plot_roc_auc_curve(y_val, rf_pred_proba[:,1])"
   ]
  }
 ],
 "metadata": {
  "kernelspec": {
   "display_name": "base",
   "language": "python",
   "name": "python3"
  },
  "language_info": {
   "codemirror_mode": {
    "name": "ipython",
    "version": 3
   },
   "file_extension": ".py",
   "mimetype": "text/x-python",
   "name": "python",
   "nbconvert_exporter": "python",
   "pygments_lexer": "ipython3",
   "version": "3.11.7"
  }
 },
 "nbformat": 4,
 "nbformat_minor": 2
}
